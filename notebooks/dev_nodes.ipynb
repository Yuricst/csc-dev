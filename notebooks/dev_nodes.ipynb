{
 "cells": [
  {
   "cell_type": "code",
   "execution_count": null,
   "id": "ce05d13e",
   "metadata": {},
   "outputs": [],
   "source": []
  },
  {
   "cell_type": "code",
   "execution_count": 5,
   "id": "b722e391",
   "metadata": {},
   "outputs": [
    {
     "name": "stdout",
     "output_type": "stream",
     "text": [
      "The autoreload extension is already loaded. To reload it, use:\n",
      "  %reload_ext autoreload\n"
     ]
    }
   ],
   "source": [
    "import numpy as np\n",
    "import pykep as pk\n",
    "from pykep.planet import jpl_lp\n",
    "from pykep import epoch\n",
    "import pygmo as pg\n",
    "import matplotlib.pyplot as plt\n",
    "from tqdm.auto import tqdm\n",
    "import os\n",
    "import spiceypy as spice\n",
    "\n",
    "%matplotlib notebook\n",
    "\n",
    "%load_ext autoreload\n",
    "%autoreload 2"
   ]
  },
  {
   "cell_type": "code",
   "execution_count": 6,
   "id": "7db917c2",
   "metadata": {},
   "outputs": [
    {
     "ename": "NameError",
     "evalue": "name 'gt11' is not defined",
     "output_type": "error",
     "traceback": [
      "\u001b[0;31m---------------------------------------------------------------------------\u001b[0m",
      "\u001b[0;31mNameError\u001b[0m                                 Traceback (most recent call last)",
      "Input \u001b[0;32mIn [6]\u001b[0m, in \u001b[0;36m<cell line: 2>\u001b[0;34m()\u001b[0m\n\u001b[1;32m      1\u001b[0m \u001b[38;5;66;03m# create objects from Keplerian elements\u001b[39;00m\n\u001b[1;32m      2\u001b[0m st \u001b[38;5;241m=\u001b[39m pk\u001b[38;5;241m.\u001b[39mplanet\u001b[38;5;241m.\u001b[39mkeplerian(\n\u001b[0;32m----> 3\u001b[0m     \u001b[43mgt11\u001b[49m\u001b[38;5;241m.\u001b[39mT_START, pos, vel, gt11\u001b[38;5;241m.\u001b[39mMU_SUN, \u001b[38;5;241m123.0\u001b[39m, \u001b[38;5;241m123.0\u001b[39m, \u001b[38;5;241m124.0\u001b[39m, \u001b[38;5;124m\"\u001b[39m\u001b[38;5;124mst\u001b[39m\u001b[38;5;124m\"\u001b[39m \u001b[38;5;241m+\u001b[39m \u001b[38;5;28mstr\u001b[39m(i)\n\u001b[1;32m      4\u001b[0m )\n",
      "\u001b[0;31mNameError\u001b[0m: name 'gt11' is not defined"
     ]
    }
   ],
   "source": [
    "# create objects from Keplerian elements\n",
    "st = pk.planet.keplerian(\n",
    "    gt11.T_START, pos, vel, gt11.MU_SUN, 123.0, 123.0, 124.0, \"st\" + str(i)\n",
    ")"
   ]
  },
  {
   "cell_type": "code",
   "execution_count": 7,
   "id": "056cefeb",
   "metadata": {},
   "outputs": [
    {
     "data": {
      "text/plain": [
       "'/home/yuri/Documents/spice'"
      ]
     },
     "execution_count": 7,
     "metadata": {},
     "output_type": "execute_result"
    }
   ],
   "source": [
    "os.environ.get(\"SPICE\")"
   ]
  },
  {
   "cell_type": "code",
   "execution_count": 27,
   "id": "3a161f15",
   "metadata": {},
   "outputs": [
    {
     "data": {
      "text/plain": [
       "1.32712440018e+20"
      ]
     },
     "execution_count": 27,
     "metadata": {},
     "output_type": "execute_result"
    }
   ],
   "source": [
    "pk.MU_SUN"
   ]
  },
  {
   "cell_type": "code",
   "execution_count": 40,
   "id": "9bf4c6b4",
   "metadata": {},
   "outputs": [],
   "source": [
    "MU_VENUS = 3.2485859200000006E+05*1e9   # in SI\n",
    "MU_JUPITER = 1.2671276480000021E+08 * 1e9  # in SI\n",
    "MU_SATURN = 3.7940585200000003E+07*1e9  # in SI\n",
    "\n",
    "R_VENUS  = 12104/2 * 1e3\n",
    "R_EARTH  = 6378 *1e3\n",
    "R_JUPITER = 142984.0 / 2 * 1e3\n",
    "R_SATURN = 120536.0 / 2 * 1e3"
   ]
  },
  {
   "cell_type": "code",
   "execution_count": 41,
   "id": "f45bae11",
   "metadata": {},
   "outputs": [
    {
     "data": {
      "text/plain": [
       "3.79405852e+16"
      ]
     },
     "execution_count": 41,
     "metadata": {},
     "output_type": "execute_result"
    }
   ],
   "source": [
    "MU_SATURN"
   ]
  },
  {
   "cell_type": "code",
   "execution_count": 37,
   "id": "f1fc696f",
   "metadata": {},
   "outputs": [],
   "source": [
    "pk.util.load_spice_kernel(os.path.join(os.environ.get(\"SPICE\"), \"spk\", \"de440.bsp\"))\n",
    "pk.util.load_spice_kernel(os.path.join(os.environ.get(\"SPICE\"), \"lsk\", \"naif0012.tls\"))"
   ]
  },
  {
   "cell_type": "code",
   "execution_count": 42,
   "id": "52baccf6",
   "metadata": {},
   "outputs": [],
   "source": [
    "venus = pk.planet.spice('2', 'SUN', 'ECLIPJ2000', 'NONE', pk.MU_SUN, MU_JUPITER, R_VENUS, R_VENUS * 1.05)\n",
    "earth = pk.planet.spice('3', 'SUN', 'ECLIPJ2000', 'NONE', pk.MU_SUN, pk.MU_EARTH, R_EARTH, R_EARTH * 1.05)\n",
    "jupiter = pk.planet.spice('5', 'SUN', 'ECLIPJ2000', 'NONE', pk.MU_SUN, MU_JUPITER, R_JUPITER, R_JUPITER * 1.05)\n",
    "saturn = pk.planet.spice('6', 'SUN', 'ECLIPJ2000', 'NONE', pk.MU_SUN, MU_SATURN, R_SATURN, R_SATURN * 1.05)\n",
    "\n",
    "# test\n",
    "r,v = saturn.eph(pk.epoch(9500))"
   ]
  },
  {
   "cell_type": "code",
   "execution_count": 44,
   "id": "13df7562",
   "metadata": {},
   "outputs": [],
   "source": [
    "epoch_list = np.linspace(0,20000,200)\n",
    "for el in epoch_list:\n",
    "    r,v = saturn.eph(pk.epoch(el))"
   ]
  },
  {
   "cell_type": "code",
   "execution_count": null,
   "id": "340bab15",
   "metadata": {},
   "outputs": [],
   "source": [
    "# # create objects from Keplerian elements\n",
    "# st = pk.planet.keplerian(\n",
    "#         gt11.T_START, pos, vel, gt11.MU_SUN, 123.0, 123.0, 124.0, \"st\" + str(i)\n",
    "#     )"
   ]
  },
  {
   "cell_type": "code",
   "execution_count": null,
   "id": "ee924835",
   "metadata": {},
   "outputs": [],
   "source": []
  },
  {
   "cell_type": "code",
   "execution_count": null,
   "id": "eac0f4b7",
   "metadata": {},
   "outputs": [],
   "source": []
  }
 ],
 "metadata": {
  "kernelspec": {
   "display_name": "Python 3 (ipykernel)",
   "language": "python",
   "name": "python3"
  },
  "language_info": {
   "codemirror_mode": {
    "name": "ipython",
    "version": 3
   },
   "file_extension": ".py",
   "mimetype": "text/x-python",
   "name": "python",
   "nbconvert_exporter": "python",
   "pygments_lexer": "ipython3",
   "version": "3.8.12"
  }
 },
 "nbformat": 4,
 "nbformat_minor": 5
}
